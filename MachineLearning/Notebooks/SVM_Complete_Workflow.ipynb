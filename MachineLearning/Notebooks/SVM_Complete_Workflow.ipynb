{
  "cells": [
    {
      "cell_type": "code",
      "execution_count": null,
      "metadata": {
        "id": "xkamuXpM1yLx"
      },
      "outputs": [],
      "source": [
        "#Dependent Libraries\n",
        "!pip install pandas==1.5.3\n",
        "!pip install scikit-learn==1.2.1"
      ]
    },
    {
      "cell_type": "code",
      "execution_count": null,
      "metadata": {
        "colab": {
          "base_uri": "https://localhost:8080/"
        },
        "id": "x1yXQs342hmM",
        "outputId": "3d2bb094-eb50-4c1c-db42-a9e44da31328"
      },
      "outputs": [
        {
          "output_type": "stream",
          "name": "stdout",
          "text": [
            "Mounted at /content/drive\n"
          ]
        }
      ],
      "source": [
        "#Connect Google Drive\n",
        "from google.colab import drive\n",
        "drive.mount('/content/drive')"
      ]
    },
    {
      "cell_type": "code",
      "execution_count": null,
      "metadata": {
        "id": "SFJuzXNg2pZs"
      },
      "outputs": [],
      "source": [
        "import pandas as pd\n",
        "from sklearn.model_selection import train_test_split, GridSearchCV, StratifiedKFold\n",
        "from sklearn.feature_selection import SelectKBest, mutual_info_classif\n",
        "from sklearn.svm import SVC\n",
        "from sklearn.impute import SimpleImputer\n",
        "import pickle\n",
        "from sklearn.preprocessing import StandardScaler"
      ]
    },
    {
      "cell_type": "code",
      "execution_count": null,
      "metadata": {
        "id": "84G32-pR33pB"
      },
      "outputs": [],
      "source": [
        "# Read data from Excel CSV file\n",
        "data = pd.read_csv('/content/drive/MyDrive/Colab Notebooks/Data/transformed_data.csv')\n",
        "# Create DataFrame\n",
        "df = pd.DataFrame(data)\n",
        "\n",
        "# Prepare features and target\n",
        "ftr = df.iloc[:,:-1] # Excluding target feature\n",
        "target = df['DeepFake']  # Target Feature"
      ]
    },
    {
      "cell_type": "code",
      "source": [
        "# Splitting dataset to training and testing\n",
        "ftr_train, ftr_test, target_train, target_test = train_test_split(ftr, target, test_size=0.2, random_state=42)"
      ],
      "metadata": {
        "id": "pM-JSQUIxkWR"
      },
      "execution_count": null,
      "outputs": []
    },
    {
      "cell_type": "code",
      "execution_count": null,
      "metadata": {
        "id": "thEJ12q2etLd"
      },
      "outputs": [],
      "source": [
        "# Initialize SVM classifier\n",
        "svm = SVC(probability=True)\n",
        "\n",
        "# Initialize GridSearchCV with StratifiedKFold cross-validation\n",
        "cv = StratifiedKFold(n_splits=5, shuffle=True, random_state=42)"
      ]
    },
    {
      "cell_type": "code",
      "execution_count": null,
      "metadata": {
        "id": "2PtxFQNQiDwo"
      },
      "outputs": [],
      "source": [
        "#Initialize GridSearchCV with  for searching optimal parameters\n",
        "param_grid = {\n",
        "    'C': [.1,1,10],\n",
        "    'kernel': ['rbf'],\n",
        "    'gamma': [0.01,0.1,1,10]\n",
        "}\n",
        "\n",
        "# Initialize GridSearchCV with StratifiedKFold cross-validation\n",
        "cv = StratifiedKFold(n_splits=5, shuffle=True, random_state=42)"
      ]
    },
    {
      "cell_type": "code",
      "source": [
        "#--Current Optimal parameters-- after results from param_grid above\n",
        "param_grid = {\n",
        "    'C': [10],\n",
        "    'kernel': ['rbf'],\n",
        "    'gamma': [0.0429]\n",
        "}\n",
        "\n",
        "# Initialize GridSearchCV with StratifiedKFold cross-validation\n",
        "cv = StratifiedKFold(n_splits=5, shuffle=True, random_state=42)"
      ],
      "metadata": {
        "id": "uIcLzetDkx9W"
      },
      "execution_count": null,
      "outputs": []
    },
    {
      "cell_type": "code",
      "execution_count": null,
      "metadata": {
        "id": "pKT_CUnZ4W8Z"
      },
      "outputs": [],
      "source": [
        "# Perform Grid Search Cross-Validation on selected features\n",
        "print(\"Performing Grid Search Cross-Validation on selected features...\")\n",
        "grid_search = GridSearchCV(svm, param_grid, cv=cv, scoring='accuracy', n_jobs=-1)\n",
        "grid_search.fit(ftr_train, target_train)\n"
      ]
    },
    {
      "cell_type": "code",
      "execution_count": null,
      "metadata": {
        "id": "OY4SITU74lqx",
        "colab": {
          "base_uri": "https://localhost:8080/"
        },
        "outputId": "e68f9f2d-aea4-46aa-e652-6956285c911b"
      },
      "outputs": [
        {
          "output_type": "stream",
          "name": "stdout",
          "text": [
            "Best Parameters: {'C': 10, 'gamma': 0.0429, 'kernel': 'rbf'}\n",
            "Best Accuracy: 0.7432300446059568\n"
          ]
        }
      ],
      "source": [
        "# Print the best parameters found\n",
        "print(\"Best Parameters:\", grid_search.best_params_)\n",
        "print(\"Best Accuracy:\", grid_search.best_score_)\n"
      ]
    },
    {
      "cell_type": "code",
      "execution_count": null,
      "metadata": {
        "id": "bDCAeMb24pog"
      },
      "outputs": [],
      "source": [
        "# Save the best model\n",
        "best_svm = grid_search.best_estimator_\n",
        "results_file_path = '/content/drive/My Drive/Colab Notebooks/SVM_ML/Models/'\n",
        "filename = 'svm_model_extended_ftr.sav'\n",
        "pickle.dump(best_svm, open(results_file_path+filename, 'wb'))\n"
      ]
    },
    {
      "cell_type": "code",
      "execution_count": null,
      "metadata": {
        "id": "3ClBpmAb4ZHZ"
      },
      "outputs": [],
      "source": [
        "# Save results to Excel\n",
        "results_df = pd.DataFrame(grid_search.cv_results_)\n",
        "results_file_path = '/content/drive/MyDrive/Colab Notebooks/SVM_ML/Data/'\n",
        "results_file_name = 'grid_search_ext_ftr.xlsx'\n",
        "results_df.to_excel(results_file_path+results_file_name, index=False)"
      ]
    }
  ],
  "metadata": {
    "colab": {
      "machine_shape": "hm",
      "provenance": []
    },
    "kernelspec": {
      "display_name": "Python 3",
      "name": "python3"
    },
    "language_info": {
      "name": "python"
    }
  },
  "nbformat": 4,
  "nbformat_minor": 0
}
