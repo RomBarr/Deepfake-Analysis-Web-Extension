{
  "cells": [
    {
      "cell_type": "code",
      "execution_count": null,
      "metadata": {
        "id": "xkamuXpM1yLx"
      },
      "outputs": [],
      "source": [
        "#Dependent Libraries\n",
        "!pip install pandas==1.5.3\n",
        "!pip install scikit-learn==1.2.1\n",
        "!pip install keras==2.12.0"
      ]
    },
    {
      "cell_type": "code",
      "execution_count": null,
      "metadata": {
        "id": "x1yXQs342hmM",
        "colab": {
          "base_uri": "https://localhost:8080/"
        },
        "outputId": "21deb25d-1f89-419d-d098-441821e97f59"
      },
      "outputs": [
        {
          "output_type": "stream",
          "name": "stdout",
          "text": [
            "Mounted at /content/drive\n"
          ]
        }
      ],
      "source": [
        "#Connect Google Drive\n",
        "from google.colab import drive\n",
        "drive.mount('/content/drive')"
      ]
    },
    {
      "cell_type": "code",
      "execution_count": null,
      "metadata": {
        "id": "SFJuzXNg2pZs"
      },
      "outputs": [],
      "source": [
        "#Imports\n",
        "import pandas as pd\n",
        "import numpy as np\n",
        "from sklearn.model_selection import train_test_split\n",
        "from sklearn.feature_selection import SelectKBest, mutual_info_classif\n",
        "from sklearn.impute import SimpleImputer\n",
        "from sklearn.preprocessing import StandardScaler\n",
        "from keras.models import Sequential\n",
        "from keras.layers import Dense, Dropout, Activation, BatchNormalization\n",
        "from keras.optimizers import Adam\n",
        "from keras.callbacks import EarlyStopping, ModelCheckpoint, ReduceLROnPlateau"
      ]
    },
    {
      "cell_type": "code",
      "execution_count": null,
      "metadata": {
        "id": "84G32-pR33pB"
      },
      "outputs": [],
      "source": [
        "# Read data from Excel CSV file\n",
        "data = pd.read_csv('/content/drive/MyDrive/Colab Notebooks/Data/transformed_data.csv')\n",
        "# Create DataFrame\n",
        "df = pd.DataFrame(data)\n",
        "\n",
        "# Prepare features and target\n",
        "ftr = df.iloc[:,:-1] # Excludes file path columns and target feature\n",
        "target = df['DeepFake']  # Target Feature"
      ]
    },
    {
      "cell_type": "code",
      "source": [
        "# Splitting dataset to training and testing\n",
        "ftr_train, ftr_test, target_train, target_test = train_test_split(ftr, target, test_size=0.2, random_state=42)"
      ],
      "metadata": {
        "id": "R8h2auX-9m_R"
      },
      "execution_count": null,
      "outputs": []
    },
    {
      "cell_type": "code",
      "source": [
        "# Model definition with updated layer configuration and dropout rates\n",
        "model = Sequential()\n",
        "\n",
        "# Input layer with increased width\n",
        "model.add(Dense(256, input_dim=ftr_train.shape[1]))  # Increased width\n",
        "model.add(BatchNormalization())\n",
        "model.add(Activation('relu'))\n",
        "model.add(Dropout(0.3))\n",
        "\n",
        "# Additional hidden layer\n",
        "model.add(Dense(256))\n",
        "model.add(BatchNormalization())\n",
        "model.add(Activation('relu'))\n",
        "model.add(Dropout(0.3))\n",
        "\n",
        "# Third hidden layer\n",
        "model.add(Dense(128))\n",
        "model.add(BatchNormalization())\n",
        "model.add(Activation('relu'))\n",
        "model.add(Dropout(0.2))\n",
        "\n",
        "# Output layer\n",
        "model.add(Dense(1, activation='sigmoid'))"
      ],
      "metadata": {
        "id": "M9EZIvjIm0O0"
      },
      "execution_count": null,
      "outputs": []
    },
    {
      "cell_type": "code",
      "source": [
        "# Adjusting the learning rate in the optimizer\n",
        "#optimizer = Adam(learning_rate=0.001)\n",
        "optimizer = Adam(learning_rate=0.0001, beta_1=0.9, beta_2=0.999, epsilon=1e-07)"
      ],
      "metadata": {
        "id": "b52qLuUbSRRG"
      },
      "execution_count": null,
      "outputs": []
    },
    {
      "cell_type": "code",
      "execution_count": null,
      "metadata": {
        "id": "3tPSaBJ645mj"
      },
      "outputs": [],
      "source": [
        "# Compile the model with the custom optimizer\n",
        "model.compile(optimizer=optimizer, loss='binary_crossentropy', metrics=['accuracy'])"
      ]
    },
    {
      "cell_type": "code",
      "source": [
        "# Callbacks\n",
        "early_stopping = EarlyStopping(monitor='val_loss', patience=10, restore_best_weights=True)\n",
        "# Define the path where you want to save the model\n",
        "model_path = '/content/drive/My Drive/Colab Notebooks/MLP_ML/Models/MLP_best_model_extended_ftr.h5'\n",
        "\n",
        "model_checkpoint = ModelCheckpoint(model_path, monitor='val_loss', save_best_only=True)\n",
        "reduce_lr = ReduceLROnPlateau(monitor='val_loss', factor=0.2, patience=5, min_lr=0.00001)"
      ],
      "metadata": {
        "id": "PLtpfxNbUEod"
      },
      "execution_count": null,
      "outputs": []
    },
    {
      "cell_type": "code",
      "execution_count": null,
      "metadata": {
        "id": "2PtxFQNQiDwo"
      },
      "outputs": [],
      "source": [
        "# Train the model\n",
        "model.fit(ftr_train, target_train, epochs=150, batch_size=32, validation_split=0.2,\n",
        "          callbacks=[early_stopping, model_checkpoint, reduce_lr])"
      ]
    },
    {
      "cell_type": "code",
      "execution_count": null,
      "metadata": {
        "id": "pKT_CUnZ4W8Z",
        "colab": {
          "base_uri": "https://localhost:8080/"
        },
        "outputId": "7d641932-d86c-4243-8b9f-544a904ac13b"
      },
      "outputs": [
        {
          "output_type": "stream",
          "name": "stdout",
          "text": [
            "355/355 [==============================] - 1s 1ms/step - loss: 0.3623 - accuracy: 0.8426\n",
            "Test accuracy: 84.26%\n"
          ]
        }
      ],
      "source": [
        "# Evaluate the model\n",
        "loss, accuracy = model.evaluate(ftr_test, target_test)\n",
        "print(f'Test accuracy: {accuracy:.2%}')"
      ]
    },
    {
      "cell_type": "code",
      "source": [
        "#--optional--Loading model and test accuracy using split datasets ftr_test and target_test\n",
        "from tensorflow.keras.models import load_model\n",
        "# Load the saved model\n",
        "best_model = load_model(model_path)\n",
        "\n",
        "# Evaluate the model\n",
        "loss, accuracy = best_model.evaluate(ftr_test, target_test)\n",
        "print(f\"Test Loss: {loss}\")\n",
        "print(f\"Test Accuracy: {accuracy}\")"
      ],
      "metadata": {
        "id": "srwsEuvWcVNb"
      },
      "execution_count": null,
      "outputs": []
    }
  ],
  "metadata": {
    "colab": {
      "machine_shape": "hm",
      "provenance": []
    },
    "kernelspec": {
      "display_name": "Python 3",
      "name": "python3"
    },
    "language_info": {
      "name": "python"
    }
  },
  "nbformat": 4,
  "nbformat_minor": 0
}
