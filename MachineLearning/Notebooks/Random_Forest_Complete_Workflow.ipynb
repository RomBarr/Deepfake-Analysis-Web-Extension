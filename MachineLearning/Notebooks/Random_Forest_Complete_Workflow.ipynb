{
  "nbformat": 4,
  "nbformat_minor": 0,
  "metadata": {
    "colab": {
      "provenance": []
    },
    "kernelspec": {
      "name": "python3",
      "display_name": "Python 3"
    },
    "language_info": {
      "name": "python"
    }
  },
  "cells": [
    {
      "cell_type": "code",
      "execution_count": null,
      "metadata": {
        "id": "MiCFH33AXQ6r"
      },
      "outputs": [],
      "source": [
        "#Dependent Libraries\n",
        "!pip install pandas==1.5.3\n",
        "!pip install scikit-learn==1.2.1\n",
        "!pip install numpy==1.23.5"
      ]
    },
    {
      "cell_type": "code",
      "source": [
        "#Connect Google Drive\n",
        "from google.colab import drive\n",
        "drive.mount('/content/drive')"
      ],
      "metadata": {
        "colab": {
          "base_uri": "https://localhost:8080/"
        },
        "id": "IuwXt93raUFf",
        "outputId": "66b99285-2602-4fad-bbc4-acd2253fa2b4"
      },
      "execution_count": null,
      "outputs": [
        {
          "output_type": "stream",
          "name": "stdout",
          "text": [
            "Mounted at /content/drive\n"
          ]
        }
      ]
    },
    {
      "cell_type": "code",
      "source": [
        "import pandas as pd\n",
        "from sklearn.model_selection import train_test_split, cross_val_score\n",
        "from sklearn.ensemble import RandomForestClassifier\n",
        "from sklearn.feature_selection import SelectKBest, mutual_info_classif\n",
        "from sklearn.metrics import accuracy_score, classification_report, confusion_matrix\n",
        "from sklearn.impute import SimpleImputer\n",
        "from sklearn.preprocessing import StandardScaler\n",
        "import pickle\n",
        "import numpy as np\n",
        "import csv"
      ],
      "metadata": {
        "id": "O483riClX69a"
      },
      "execution_count": null,
      "outputs": []
    },
    {
      "cell_type": "code",
      "source": [
        "# Read data from Excel CSV file\n",
        "data = pd.read_csv('/content/drive/MyDrive/Colab Notebooks/Data/transformed_data.csv')\n",
        "# Create DataFrame\n",
        "df = pd.DataFrame(data)\n",
        "\n",
        "# Prepare features and target\n",
        "ftr = df.iloc[:,:-1] # Excludes target feature\n",
        "target = df['DeepFake']  # Target Feature"
      ],
      "metadata": {
        "id": "ie9KEfuqdeUi"
      },
      "execution_count": null,
      "outputs": []
    },
    {
      "cell_type": "code",
      "source": [
        "# Splitting dataset to training and testing\n",
        "ftr_train, ftr_test, target_train, target_test = train_test_split(ftr, target, test_size=0.2, random_state=42)"
      ],
      "metadata": {
        "id": "IQK-VuPCYQGq"
      },
      "execution_count": null,
      "outputs": []
    },
    {
      "cell_type": "code",
      "source": [
        "# Cross-validation to check overfitting\n",
        "model = RandomForestClassifier()\n",
        "cv_scores = cross_val_score(model, ftr_train, target_train, cv=5)\n",
        "print(\"Cross-validated accuracy scores:\", cv_scores)\n",
        "print(\"Average cross-validated accuracy:\", cv_scores.mean())"
      ],
      "metadata": {
        "id": "MA3nKC4AZ6ry"
      },
      "execution_count": null,
      "outputs": []
    },
    {
      "cell_type": "code",
      "source": [
        "# Train and test the model\n",
        "random_forest = RandomForestClassifier()\n",
        "random_forest.fit(ftr_train, target_train)\n",
        "target_prediction = random_forest.predict(ftr_test)\n",
        "print(\"Accuracy:\", accuracy_score(target_test, target_prediction))\n",
        "print(\"Classification Report:\\n\", classification_report(target_test, target_prediction))\n",
        "print(\"Confusion Matrix:\\n\", confusion_matrix(target_test, target_prediction))"
      ],
      "metadata": {
        "id": "Gg7G1BgZaBGw"
      },
      "execution_count": null,
      "outputs": []
    },
    {
      "cell_type": "code",
      "source": [
        "# Save the trained model to disk\n",
        "filename = '/content/drive/MyDrive/Colab Notebooks/Random_Forest/Models/random_forest_extended_ftr.sav'\n",
        "pickle.dump(random_forest, open(filename, 'wb'))"
      ],
      "metadata": {
        "id": "3L5KvweLaDJh"
      },
      "execution_count": null,
      "outputs": []
    }
  ]
}
