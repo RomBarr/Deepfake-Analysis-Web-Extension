{
  "nbformat": 4,
  "nbformat_minor": 0,
  "metadata": {
    "colab": {
      "provenance": []
    },
    "kernelspec": {
      "name": "python3",
      "display_name": "Python 3"
    },
    "language_info": {
      "name": "python"
    }
  },
  "cells": [
    {
      "cell_type": "code",
      "execution_count": null,
      "metadata": {
        "id": "WQac9jPfebyB"
      },
      "outputs": [],
      "source": [
        "import pandas as pd\n",
        "from sklearn.preprocessing import StandardScaler\n",
        "from sklearn.decomposition import PCA\n",
        "from joblib import dump"
      ]
    },
    {
      "cell_type": "code",
      "source": [
        "#Connect Google Drive\n",
        "from google.colab import drive\n",
        "drive.mount('/content/drive')"
      ],
      "metadata": {
        "id": "rWvofDblezPZ"
      },
      "execution_count": null,
      "outputs": []
    },
    {
      "cell_type": "code",
      "source": [
        "# Read data from Excel CSV file\n",
        "data = pd.read_csv('/content/drive/MyDrive/Colab Notebooks/Data/dataset_extended_gradient_full.csv')\n",
        "# Create DataFrame\n",
        "df = pd.DataFrame(data)\n",
        "\n",
        "# Prepare features and target\n",
        "ftr = df.iloc[:,3:-1] # Excludes file path columns and target feature\n",
        "target = df['DeepFake']  # Target Feature"
      ],
      "metadata": {
        "id": "1bRufHYOexCi"
      },
      "execution_count": null,
      "outputs": []
    },
    {
      "cell_type": "code",
      "source": [
        "# Initialize and fit StandardScaler\n",
        "scaler = StandardScaler()\n",
        "ftr_scaled = scaler.fit_transform(ftr)"
      ],
      "metadata": {
        "id": "mvCfE1yJJDpt"
      },
      "execution_count": null,
      "outputs": []
    },
    {
      "cell_type": "code",
      "source": [
        "# Initialize and fit PCA\n",
        "pca = PCA(n_components=0.9)  # Retain 90% of the variance\n",
        "ftr_pca = pca.fit_transform(ftr_scaled)"
      ],
      "metadata": {
        "id": "4XIqWQxKJFck"
      },
      "execution_count": null,
      "outputs": []
    },
    {
      "cell_type": "code",
      "source": [
        "# Convert the PCA output back to a DataFrame\n",
        "df_pca = pd.DataFrame(ftr_pca, columns=[f'Principal Component {i+1}' for i in range(ftr_pca.shape[1])])"
      ],
      "metadata": {
        "id": "Lej47RTdJGG0"
      },
      "execution_count": null,
      "outputs": []
    },
    {
      "cell_type": "code",
      "source": [
        "# Add the target feature back to the new DataFrame\n",
        "df_pca['DeepFake'] = target.values"
      ],
      "metadata": {
        "id": "jpzOlPJOOGCp"
      },
      "execution_count": null,
      "outputs": []
    },
    {
      "cell_type": "code",
      "source": [
        "# Save the transformed data to a new CSV file\n",
        "df_pca.to_csv('/content/drive/MyDrive/Colab Notebooks/Data/transformed_data.csv', index=False)"
      ],
      "metadata": {
        "id": "EHa8hh04JFMk"
      },
      "execution_count": null,
      "outputs": []
    },
    {
      "cell_type": "code",
      "source": [
        "# Save the PCA loadings (components) to view impactfullness of each feature for each Principal Component\n",
        "loadings = pd.DataFrame(pca.components_.T, columns=[f'Principal Component {i+1}' for i in range(ftr_pca.shape[1])], index=ftr.columns)\n",
        "loadings.to_csv('/content/drive/MyDrive/Colab Notebooks/Data/pca_loadings.csv')"
      ],
      "metadata": {
        "id": "MrgK6rdjYdPZ"
      },
      "execution_count": null,
      "outputs": []
    },
    {
      "cell_type": "code",
      "source": [
        "# Save the scaler and PCA objects as joblib files\n",
        "dump(scaler, '/content/drive/MyDrive/Colab Notebooks/Data Transformation/artifacts/scaler.joblib')\n",
        "dump(pca, '/content/drive/MyDrive/Colab Notebooks/Data Transformation/artifacts/pca.joblib')"
      ],
      "metadata": {
        "id": "FlF99Jq7JE91"
      },
      "execution_count": null,
      "outputs": []
    }
  ]
}
