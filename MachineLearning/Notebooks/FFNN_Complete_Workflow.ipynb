{
  "nbformat": 4,
  "nbformat_minor": 0,
  "metadata": {
    "colab": {
      "provenance": [],
      "machine_shape": "hm"
    },
    "kernelspec": {
      "name": "python3",
      "display_name": "Python 3"
    },
    "language_info": {
      "name": "python"
    }
  },
  "cells": [
    {
      "cell_type": "code",
      "source": [
        "#Connect Google Drive\n",
        "from google.colab import drive\n",
        "drive.mount('/content/drive')"
      ],
      "metadata": {
        "colab": {
          "base_uri": "https://localhost:8080/"
        },
        "id": "adaQCrvVg-k3",
        "outputId": "9d4da76f-e2c2-4693-cc6b-7ab0c68179e3"
      },
      "execution_count": null,
      "outputs": [
        {
          "output_type": "stream",
          "name": "stdout",
          "text": [
            "Mounted at /content/drive\n"
          ]
        }
      ]
    },
    {
      "cell_type": "code",
      "execution_count": null,
      "metadata": {
        "id": "M5RSC92NfvXD"
      },
      "outputs": [],
      "source": [
        "import tensorflow as tf\n",
        "from keras.layers import Dense, Dropout\n",
        "from keras.models import Sequential, load_model\n",
        "import pandas as pd\n",
        "from sklearn.model_selection import train_test_split\n",
        "from sklearn.preprocessing import StandardScaler\n",
        "from sklearn.impute import SimpleImputer\n",
        "from sklearn.feature_selection import SelectKBest, mutual_info_classif\n",
        "from sklearn.model_selection import KFold\n",
        "from keras.callbacks import EarlyStopping, ReduceLROnPlateau, ModelCheckpoint\n",
        "import os\n",
        "\n",
        "import numpy as np"
      ]
    },
    {
      "cell_type": "code",
      "source": [
        "# Read data from Excel CSV file\n",
        "data = pd.read_csv('/content/drive/MyDrive/Colab Notebooks/Data/transformed_data.csv')\n",
        "# Create DataFrame\n",
        "df = pd.DataFrame(data)\n",
        "\n",
        "# Prepare features and target\n",
        "ftr = df.iloc[:,:-1] # Excludes file path columns and target feature\n",
        "target = df['DeepFake']  # Target Feature"
      ],
      "metadata": {
        "id": "5QUv-zYqg8Yw"
      },
      "execution_count": null,
      "outputs": []
    },
    {
      "cell_type": "code",
      "source": [
        "X = ftr\n",
        "y = target"
      ],
      "metadata": {
        "id": "AjnGSHUpt70c"
      },
      "execution_count": null,
      "outputs": []
    },
    {
      "cell_type": "code",
      "source": [
        "# Define the K-fold Cross Validator\n",
        "num_folds = 5\n",
        "kfold = KFold(n_splits=num_folds, shuffle=True)\n",
        "\n",
        "# Initialize the variables to track the best model and performance across folds\n",
        "best_accuracy = 0\n",
        "best_model = None\n",
        "results = []\n",
        "acc_per_fold = []\n",
        "loss_per_fold = []\n"
      ],
      "metadata": {
        "id": "R-QNNCEehrWN"
      },
      "execution_count": null,
      "outputs": []
    },
    {
      "cell_type": "code",
      "source": [
        "fold_no = 1\n",
        "results_file_path = '/content/drive/MyDrive/Colab Notebooks/FF_Neural_Network_ML/Models/'\n",
        "filename = 'new_best_model_FFNN_extended_ftr.keras'\n",
        "for train, test in kfold.split(X, y):\n",
        "    # Define the model architecture (re-initialized for each fold)\n",
        "    model = Sequential([\n",
        "        Dense(128, input_dim=X.shape[1], activation='relu'),\n",
        "        Dropout(0.3),\n",
        "        Dense(64, activation='relu'),\n",
        "        Dropout(0.3),\n",
        "        Dense(1, activation='sigmoid')\n",
        "    ])\n",
        "    model.compile(optimizer='adam', loss='binary_crossentropy', metrics=['accuracy'])\n",
        "\n",
        "    # Define callbacks\n",
        "    early_stopping = EarlyStopping(monitor='val_loss', patience=10, restore_best_weights=True)\n",
        "    reduce_lr = ReduceLROnPlateau(monitor='val_loss', factor=0.2, patience=5, min_lr=0.001)\n",
        "    model_checkpoint = ModelCheckpoint(os.path.join(results_file_path, filename), save_best_only=True, monitor='val_accuracy', mode='max')\n",
        "\n",
        "    print(f'Training for fold {fold_no} ...')\n",
        "\n",
        "    # Fit data to model\n",
        "    history = model.fit(X.iloc[train], y.iloc[train],\n",
        "                        batch_size=32,\n",
        "                        epochs=150,\n",
        "                        verbose=1,\n",
        "                        validation_data=(X.iloc[test], y.iloc[test]),\n",
        "                        callbacks=[early_stopping, reduce_lr, model_checkpoint])\n",
        "\n",
        "    # Evaluate the model\n",
        "    scores = model.evaluate(X.iloc[test], y.iloc[test], verbose=0)\n",
        "    print(f'Score for fold {fold_no}: {model.metrics_names[0]} of {scores[0]}; {model.metrics_names[1]} of {scores[1]*100}%')\n",
        "    acc_per_fold.append(scores[1] * 100)\n",
        "    loss_per_fold.append(scores[0])\n",
        "    results.append({'fold': fold_no, 'loss': scores[0], 'accuracy': scores[1]})\n",
        "\n",
        "    # Check if the current model is the best model\n",
        "    if scores[1] > best_accuracy:\n",
        "        best_accuracy = scores[1]\n",
        "        best_model = model\n",
        "    fold_no += 1"
      ],
      "metadata": {
        "id": "0WHgv49JhsK9"
      },
      "execution_count": null,
      "outputs": []
    },
    {
      "cell_type": "code",
      "source": [
        "# Print detailed fold results and average scores\n",
        "print('------------------------------------------------------------------------')\n",
        "print('Score per fold')\n",
        "for i in range(0, len(acc_per_fold)):\n",
        "    print('------------------------------------------------------------------------')\n",
        "    print(f'> Fold {i+1} - Loss: {loss_per_fold[i]} - Accuracy: {acc_per_fold[i]}%')\n",
        "print('------------------------------------------------------------------------')\n",
        "print('Average scores for all folds:')\n",
        "print(f'> Accuracy: {np.mean(acc_per_fold)} (+- {np.std(acc_per_fold)})')\n",
        "print(f'> Loss: {np.mean(loss_per_fold)}')\n",
        "print('------------------------------------------------------------------------')\n",
        "\n"
      ],
      "metadata": {
        "id": "Eqfh6Fm_huLl"
      },
      "execution_count": null,
      "outputs": []
    },
    {
      "cell_type": "code",
      "source": [
        "# Print the best model's score\n",
        "print(f\"Best Model's Accuracy: {best_accuracy * 100:.2f}%\")"
      ],
      "metadata": {
        "colab": {
          "base_uri": "https://localhost:8080/"
        },
        "id": "InOWDCQiKjGZ",
        "outputId": "2142b0e6-72ff-43c2-f7ab-e69690b04fd3"
      },
      "execution_count": null,
      "outputs": [
        {
          "output_type": "stream",
          "name": "stdout",
          "text": [
            "Best Model's Accuracy: 83.57%\n"
          ]
        }
      ]
    },
    {
      "cell_type": "code",
      "source": [
        "best_model.save('/content/drive/MyDrive/Colab Notebooks/FF_Neural_Network_ML/Models/new_best_model_FFNN_extended_ftr.h5')"
      ],
      "metadata": {
        "id": "-x-EizPML27H"
      },
      "execution_count": null,
      "outputs": []
    }
  ]
}
